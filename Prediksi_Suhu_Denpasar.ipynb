{
  "nbformat": 4,
  "nbformat_minor": 0,
  "metadata": {
    "accelerator": "GPU",
    "colab": {
      "name": "Prediksi_Suhu_Denpasar.ipynb",
      "provenance": [],
      "collapsed_sections": [],
      "include_colab_link": true
    },
    "kernelspec": {
      "display_name": "Python 3",
      "name": "python3"
    },
    "language_info": {
      "name": "python"
    }
  },
  "cells": [
    {
      "cell_type": "markdown",
      "metadata": {
        "id": "view-in-github",
        "colab_type": "text"
      },
      "source": [
        "<a href=\"https://colab.research.google.com/github/imadegunawinangun/PrediksiSuhuDenpasar/blob/main/Prediksi_Suhu_Denpasar.ipynb\" target=\"_parent\"><img src=\"https://colab.research.google.com/assets/colab-badge.svg\" alt=\"Open In Colab\"/></a>"
      ]
    },
    {
      "cell_type": "code",
      "metadata": {
        "id": "EwfDOW2f0acx"
      },
      "source": [
        "import os\n",
        "import numpy as np\n",
        "import pandas as pd\n",
        "pd.options.mode.chained_assignment = None\n",
        "import random\n",
        "from datetime import datetime\n",
        "from sklearn.preprocessing import MinMaxScaler\n",
        "from sklearn.metrics import mean_absolute_error\n",
        "from sklearn.model_selection import train_test_split\n",
        "from matplotlib import pyplot as plt\n",
        "from scipy import stats\n",
        "\n",
        "import tensorflow as tf\n",
        "from tensorflow import keras\n",
        "from tensorflow.keras import layers\n"
      ],
      "execution_count": 4,
      "outputs": []
    },
    {
      "cell_type": "code",
      "metadata": {
        "colab": {
          "base_uri": "https://localhost:8080/"
        },
        "id": "rxVlJATG3wxi",
        "outputId": "8e148f05-5a27-4a0d-a281-6c327ad3d287"
      },
      "source": [
        "!git clone https://github.com/imadegunawinangun/PrediksiSuhuDenpasar"
      ],
      "execution_count": 5,
      "outputs": [
        {
          "output_type": "stream",
          "text": [
            "fatal: destination path 'PrediksiSuhuDenpasar' already exists and is not an empty directory.\n"
          ],
          "name": "stdout"
        }
      ]
    },
    {
      "cell_type": "code",
      "metadata": {
        "colab": {
          "base_uri": "https://localhost:8080/"
        },
        "id": "E5mjyaH2LWvL",
        "outputId": "b03f4869-48cc-4f3f-befa-ad7ebbc7959f"
      },
      "source": [
        "ls PrediksiSuhuDenpasar/"
      ],
      "execution_count": 6,
      "outputs": [
        {
          "output_type": "stream",
          "text": [
            "openweatherdata-denpasar-1990-2020.csv      Prediksi_Suhu_Denpasar.ipynb\n",
            "openweatherdata-denpasar-1990-2020v0.1.csv\n"
          ],
          "name": "stdout"
        }
      ]
    },
    {
      "cell_type": "code",
      "metadata": {
        "colab": {
          "base_uri": "https://localhost:8080/",
          "height": 564
        },
        "id": "CLEKYoG3LX0z",
        "outputId": "f4395536-f716-44a6-8374-e47c5baeb959"
      },
      "source": [
        "data = pd.read_csv('PrediksiSuhuDenpasar/openweatherdata-denpasar-1990-2020.csv')\n",
        "data.head()"
      ],
      "execution_count": 7,
      "outputs": [
        {
          "output_type": "execute_result",
          "data": {
            "text/html": [
              "<div>\n",
              "<style scoped>\n",
              "    .dataframe tbody tr th:only-of-type {\n",
              "        vertical-align: middle;\n",
              "    }\n",
              "\n",
              "    .dataframe tbody tr th {\n",
              "        vertical-align: top;\n",
              "    }\n",
              "\n",
              "    .dataframe thead th {\n",
              "        text-align: right;\n",
              "    }\n",
              "</style>\n",
              "<table border=\"1\" class=\"dataframe\">\n",
              "  <thead>\n",
              "    <tr style=\"text-align: right;\">\n",
              "      <th></th>\n",
              "      <th>dt</th>\n",
              "      <th>dt_iso</th>\n",
              "      <th>timezone</th>\n",
              "      <th>city_name</th>\n",
              "      <th>lat</th>\n",
              "      <th>lon</th>\n",
              "      <th>temp</th>\n",
              "      <th>temp_min</th>\n",
              "      <th>temp_max</th>\n",
              "      <th>pressure</th>\n",
              "      <th>sea_level</th>\n",
              "      <th>grnd_level</th>\n",
              "      <th>humidity</th>\n",
              "      <th>wind_speed</th>\n",
              "      <th>wind_deg</th>\n",
              "      <th>rain_1h</th>\n",
              "      <th>rain_3h</th>\n",
              "      <th>rain_6h</th>\n",
              "      <th>rain_12h</th>\n",
              "      <th>rain_24h</th>\n",
              "      <th>rain_today</th>\n",
              "      <th>snow_1h</th>\n",
              "      <th>snow_3h</th>\n",
              "      <th>snow_6h</th>\n",
              "      <th>snow_12h</th>\n",
              "      <th>snow_24h</th>\n",
              "      <th>snow_today</th>\n",
              "      <th>clouds_all</th>\n",
              "      <th>weather_id</th>\n",
              "      <th>weather_main</th>\n",
              "      <th>weather_description</th>\n",
              "      <th>weather_icon</th>\n",
              "    </tr>\n",
              "  </thead>\n",
              "  <tbody>\n",
              "    <tr>\n",
              "      <th>0</th>\n",
              "      <td>631152000</td>\n",
              "      <td>1990-01-01 00:00:00 +0000 UTC</td>\n",
              "      <td>28800</td>\n",
              "      <td>Denpasar</td>\n",
              "      <td>-8.652497</td>\n",
              "      <td>115.219117</td>\n",
              "      <td>25.82</td>\n",
              "      <td>25.82</td>\n",
              "      <td>25.82</td>\n",
              "      <td>1010.0</td>\n",
              "      <td>NaN</td>\n",
              "      <td>NaN</td>\n",
              "      <td>86</td>\n",
              "      <td>1.36</td>\n",
              "      <td>225</td>\n",
              "      <td>0.49</td>\n",
              "      <td>NaN</td>\n",
              "      <td>NaN</td>\n",
              "      <td>NaN</td>\n",
              "      <td>NaN</td>\n",
              "      <td>NaN</td>\n",
              "      <td>NaN</td>\n",
              "      <td>NaN</td>\n",
              "      <td>NaN</td>\n",
              "      <td>NaN</td>\n",
              "      <td>NaN</td>\n",
              "      <td>NaN</td>\n",
              "      <td>98</td>\n",
              "      <td>500</td>\n",
              "      <td>Rain</td>\n",
              "      <td>light rain</td>\n",
              "      <td>10d</td>\n",
              "    </tr>\n",
              "    <tr>\n",
              "      <th>1</th>\n",
              "      <td>631155600</td>\n",
              "      <td>1990-01-01 01:00:00 +0000 UTC</td>\n",
              "      <td>28800</td>\n",
              "      <td>Denpasar</td>\n",
              "      <td>-8.652497</td>\n",
              "      <td>115.219117</td>\n",
              "      <td>26.20</td>\n",
              "      <td>26.20</td>\n",
              "      <td>26.20</td>\n",
              "      <td>1011.0</td>\n",
              "      <td>NaN</td>\n",
              "      <td>NaN</td>\n",
              "      <td>84</td>\n",
              "      <td>2.09</td>\n",
              "      <td>247</td>\n",
              "      <td>0.13</td>\n",
              "      <td>NaN</td>\n",
              "      <td>NaN</td>\n",
              "      <td>NaN</td>\n",
              "      <td>NaN</td>\n",
              "      <td>NaN</td>\n",
              "      <td>NaN</td>\n",
              "      <td>NaN</td>\n",
              "      <td>NaN</td>\n",
              "      <td>NaN</td>\n",
              "      <td>NaN</td>\n",
              "      <td>NaN</td>\n",
              "      <td>91</td>\n",
              "      <td>500</td>\n",
              "      <td>Rain</td>\n",
              "      <td>light rain</td>\n",
              "      <td>10d</td>\n",
              "    </tr>\n",
              "    <tr>\n",
              "      <th>2</th>\n",
              "      <td>631159200</td>\n",
              "      <td>1990-01-01 02:00:00 +0000 UTC</td>\n",
              "      <td>28800</td>\n",
              "      <td>Denpasar</td>\n",
              "      <td>-8.652497</td>\n",
              "      <td>115.219117</td>\n",
              "      <td>26.45</td>\n",
              "      <td>26.45</td>\n",
              "      <td>26.45</td>\n",
              "      <td>1011.0</td>\n",
              "      <td>NaN</td>\n",
              "      <td>NaN</td>\n",
              "      <td>84</td>\n",
              "      <td>2.44</td>\n",
              "      <td>262</td>\n",
              "      <td>0.24</td>\n",
              "      <td>NaN</td>\n",
              "      <td>NaN</td>\n",
              "      <td>NaN</td>\n",
              "      <td>NaN</td>\n",
              "      <td>NaN</td>\n",
              "      <td>NaN</td>\n",
              "      <td>NaN</td>\n",
              "      <td>NaN</td>\n",
              "      <td>NaN</td>\n",
              "      <td>NaN</td>\n",
              "      <td>NaN</td>\n",
              "      <td>94</td>\n",
              "      <td>500</td>\n",
              "      <td>Rain</td>\n",
              "      <td>light rain</td>\n",
              "      <td>10d</td>\n",
              "    </tr>\n",
              "    <tr>\n",
              "      <th>3</th>\n",
              "      <td>631162800</td>\n",
              "      <td>1990-01-01 03:00:00 +0000 UTC</td>\n",
              "      <td>28800</td>\n",
              "      <td>Denpasar</td>\n",
              "      <td>-8.652497</td>\n",
              "      <td>115.219117</td>\n",
              "      <td>26.80</td>\n",
              "      <td>26.80</td>\n",
              "      <td>26.80</td>\n",
              "      <td>1011.0</td>\n",
              "      <td>NaN</td>\n",
              "      <td>NaN</td>\n",
              "      <td>82</td>\n",
              "      <td>2.29</td>\n",
              "      <td>271</td>\n",
              "      <td>0.23</td>\n",
              "      <td>NaN</td>\n",
              "      <td>NaN</td>\n",
              "      <td>NaN</td>\n",
              "      <td>NaN</td>\n",
              "      <td>NaN</td>\n",
              "      <td>NaN</td>\n",
              "      <td>NaN</td>\n",
              "      <td>NaN</td>\n",
              "      <td>NaN</td>\n",
              "      <td>NaN</td>\n",
              "      <td>NaN</td>\n",
              "      <td>94</td>\n",
              "      <td>500</td>\n",
              "      <td>Rain</td>\n",
              "      <td>light rain</td>\n",
              "      <td>10d</td>\n",
              "    </tr>\n",
              "    <tr>\n",
              "      <th>4</th>\n",
              "      <td>631166400</td>\n",
              "      <td>1990-01-01 04:00:00 +0000 UTC</td>\n",
              "      <td>28800</td>\n",
              "      <td>Denpasar</td>\n",
              "      <td>-8.652497</td>\n",
              "      <td>115.219117</td>\n",
              "      <td>27.04</td>\n",
              "      <td>27.04</td>\n",
              "      <td>27.04</td>\n",
              "      <td>1010.0</td>\n",
              "      <td>NaN</td>\n",
              "      <td>NaN</td>\n",
              "      <td>82</td>\n",
              "      <td>1.71</td>\n",
              "      <td>274</td>\n",
              "      <td>NaN</td>\n",
              "      <td>NaN</td>\n",
              "      <td>NaN</td>\n",
              "      <td>NaN</td>\n",
              "      <td>NaN</td>\n",
              "      <td>NaN</td>\n",
              "      <td>NaN</td>\n",
              "      <td>NaN</td>\n",
              "      <td>NaN</td>\n",
              "      <td>NaN</td>\n",
              "      <td>NaN</td>\n",
              "      <td>NaN</td>\n",
              "      <td>76</td>\n",
              "      <td>803</td>\n",
              "      <td>Clouds</td>\n",
              "      <td>broken clouds</td>\n",
              "      <td>04d</td>\n",
              "    </tr>\n",
              "  </tbody>\n",
              "</table>\n",
              "</div>"
            ],
            "text/plain": [
              "          dt                         dt_iso  ...  weather_description weather_icon\n",
              "0  631152000  1990-01-01 00:00:00 +0000 UTC  ...           light rain          10d\n",
              "1  631155600  1990-01-01 01:00:00 +0000 UTC  ...           light rain          10d\n",
              "2  631159200  1990-01-01 02:00:00 +0000 UTC  ...           light rain          10d\n",
              "3  631162800  1990-01-01 03:00:00 +0000 UTC  ...           light rain          10d\n",
              "4  631166400  1990-01-01 04:00:00 +0000 UTC  ...        broken clouds          04d\n",
              "\n",
              "[5 rows x 32 columns]"
            ]
          },
          "metadata": {},
          "execution_count": 7
        }
      ]
    },
    {
      "cell_type": "code",
      "metadata": {
        "colab": {
          "base_uri": "https://localhost:8080/",
          "height": 564
        },
        "id": "l73zh4ktLyHc",
        "outputId": "e47b53f7-cc72-4617-a76d-6536abeb2a97"
      },
      "source": [
        "data.tail()"
      ],
      "execution_count": 8,
      "outputs": [
        {
          "output_type": "execute_result",
          "data": {
            "text/html": [
              "<div>\n",
              "<style scoped>\n",
              "    .dataframe tbody tr th:only-of-type {\n",
              "        vertical-align: middle;\n",
              "    }\n",
              "\n",
              "    .dataframe tbody tr th {\n",
              "        vertical-align: top;\n",
              "    }\n",
              "\n",
              "    .dataframe thead th {\n",
              "        text-align: right;\n",
              "    }\n",
              "</style>\n",
              "<table border=\"1\" class=\"dataframe\">\n",
              "  <thead>\n",
              "    <tr style=\"text-align: right;\">\n",
              "      <th></th>\n",
              "      <th>dt</th>\n",
              "      <th>dt_iso</th>\n",
              "      <th>timezone</th>\n",
              "      <th>city_name</th>\n",
              "      <th>lat</th>\n",
              "      <th>lon</th>\n",
              "      <th>temp</th>\n",
              "      <th>temp_min</th>\n",
              "      <th>temp_max</th>\n",
              "      <th>pressure</th>\n",
              "      <th>sea_level</th>\n",
              "      <th>grnd_level</th>\n",
              "      <th>humidity</th>\n",
              "      <th>wind_speed</th>\n",
              "      <th>wind_deg</th>\n",
              "      <th>rain_1h</th>\n",
              "      <th>rain_3h</th>\n",
              "      <th>rain_6h</th>\n",
              "      <th>rain_12h</th>\n",
              "      <th>rain_24h</th>\n",
              "      <th>rain_today</th>\n",
              "      <th>snow_1h</th>\n",
              "      <th>snow_3h</th>\n",
              "      <th>snow_6h</th>\n",
              "      <th>snow_12h</th>\n",
              "      <th>snow_24h</th>\n",
              "      <th>snow_today</th>\n",
              "      <th>clouds_all</th>\n",
              "      <th>weather_id</th>\n",
              "      <th>weather_main</th>\n",
              "      <th>weather_description</th>\n",
              "      <th>weather_icon</th>\n",
              "    </tr>\n",
              "  </thead>\n",
              "  <tbody>\n",
              "    <tr>\n",
              "      <th>264919</th>\n",
              "      <td>1578423600</td>\n",
              "      <td>2020-01-07 19:00:00 +0000 UTC</td>\n",
              "      <td>28800</td>\n",
              "      <td>Denpasar</td>\n",
              "      <td>-8.652497</td>\n",
              "      <td>115.219117</td>\n",
              "      <td>27.0</td>\n",
              "      <td>27.0</td>\n",
              "      <td>27.0</td>\n",
              "      <td>1007.0</td>\n",
              "      <td>NaN</td>\n",
              "      <td>NaN</td>\n",
              "      <td>94</td>\n",
              "      <td>4.1</td>\n",
              "      <td>300</td>\n",
              "      <td>NaN</td>\n",
              "      <td>NaN</td>\n",
              "      <td>NaN</td>\n",
              "      <td>NaN</td>\n",
              "      <td>NaN</td>\n",
              "      <td>NaN</td>\n",
              "      <td>NaN</td>\n",
              "      <td>NaN</td>\n",
              "      <td>NaN</td>\n",
              "      <td>NaN</td>\n",
              "      <td>NaN</td>\n",
              "      <td>NaN</td>\n",
              "      <td>75</td>\n",
              "      <td>803</td>\n",
              "      <td>Clouds</td>\n",
              "      <td>broken clouds</td>\n",
              "      <td>04n</td>\n",
              "    </tr>\n",
              "    <tr>\n",
              "      <th>264920</th>\n",
              "      <td>1578427200</td>\n",
              "      <td>2020-01-07 20:00:00 +0000 UTC</td>\n",
              "      <td>28800</td>\n",
              "      <td>Denpasar</td>\n",
              "      <td>-8.652497</td>\n",
              "      <td>115.219117</td>\n",
              "      <td>27.0</td>\n",
              "      <td>27.0</td>\n",
              "      <td>27.0</td>\n",
              "      <td>1007.0</td>\n",
              "      <td>NaN</td>\n",
              "      <td>NaN</td>\n",
              "      <td>94</td>\n",
              "      <td>5.7</td>\n",
              "      <td>300</td>\n",
              "      <td>NaN</td>\n",
              "      <td>NaN</td>\n",
              "      <td>NaN</td>\n",
              "      <td>NaN</td>\n",
              "      <td>NaN</td>\n",
              "      <td>NaN</td>\n",
              "      <td>NaN</td>\n",
              "      <td>NaN</td>\n",
              "      <td>NaN</td>\n",
              "      <td>NaN</td>\n",
              "      <td>NaN</td>\n",
              "      <td>NaN</td>\n",
              "      <td>75</td>\n",
              "      <td>803</td>\n",
              "      <td>Clouds</td>\n",
              "      <td>broken clouds</td>\n",
              "      <td>04n</td>\n",
              "    </tr>\n",
              "    <tr>\n",
              "      <th>264921</th>\n",
              "      <td>1578430800</td>\n",
              "      <td>2020-01-07 21:00:00 +0000 UTC</td>\n",
              "      <td>28800</td>\n",
              "      <td>Denpasar</td>\n",
              "      <td>-8.652497</td>\n",
              "      <td>115.219117</td>\n",
              "      <td>28.0</td>\n",
              "      <td>28.0</td>\n",
              "      <td>28.0</td>\n",
              "      <td>1007.0</td>\n",
              "      <td>NaN</td>\n",
              "      <td>NaN</td>\n",
              "      <td>83</td>\n",
              "      <td>6.7</td>\n",
              "      <td>290</td>\n",
              "      <td>NaN</td>\n",
              "      <td>NaN</td>\n",
              "      <td>NaN</td>\n",
              "      <td>NaN</td>\n",
              "      <td>NaN</td>\n",
              "      <td>NaN</td>\n",
              "      <td>NaN</td>\n",
              "      <td>NaN</td>\n",
              "      <td>NaN</td>\n",
              "      <td>NaN</td>\n",
              "      <td>NaN</td>\n",
              "      <td>NaN</td>\n",
              "      <td>75</td>\n",
              "      <td>803</td>\n",
              "      <td>Clouds</td>\n",
              "      <td>broken clouds</td>\n",
              "      <td>04n</td>\n",
              "    </tr>\n",
              "    <tr>\n",
              "      <th>264922</th>\n",
              "      <td>1578434400</td>\n",
              "      <td>2020-01-07 22:00:00 +0000 UTC</td>\n",
              "      <td>28800</td>\n",
              "      <td>Denpasar</td>\n",
              "      <td>-8.652497</td>\n",
              "      <td>115.219117</td>\n",
              "      <td>28.0</td>\n",
              "      <td>28.0</td>\n",
              "      <td>28.0</td>\n",
              "      <td>1007.0</td>\n",
              "      <td>NaN</td>\n",
              "      <td>NaN</td>\n",
              "      <td>83</td>\n",
              "      <td>6.2</td>\n",
              "      <td>290</td>\n",
              "      <td>NaN</td>\n",
              "      <td>NaN</td>\n",
              "      <td>NaN</td>\n",
              "      <td>NaN</td>\n",
              "      <td>NaN</td>\n",
              "      <td>NaN</td>\n",
              "      <td>NaN</td>\n",
              "      <td>NaN</td>\n",
              "      <td>NaN</td>\n",
              "      <td>NaN</td>\n",
              "      <td>NaN</td>\n",
              "      <td>NaN</td>\n",
              "      <td>40</td>\n",
              "      <td>802</td>\n",
              "      <td>Clouds</td>\n",
              "      <td>scattered clouds</td>\n",
              "      <td>03n</td>\n",
              "    </tr>\n",
              "    <tr>\n",
              "      <th>264923</th>\n",
              "      <td>1578438000</td>\n",
              "      <td>2020-01-07 23:00:00 +0000 UTC</td>\n",
              "      <td>28800</td>\n",
              "      <td>Denpasar</td>\n",
              "      <td>-8.652497</td>\n",
              "      <td>115.219117</td>\n",
              "      <td>28.0</td>\n",
              "      <td>28.0</td>\n",
              "      <td>28.0</td>\n",
              "      <td>1008.0</td>\n",
              "      <td>NaN</td>\n",
              "      <td>NaN</td>\n",
              "      <td>83</td>\n",
              "      <td>5.7</td>\n",
              "      <td>300</td>\n",
              "      <td>NaN</td>\n",
              "      <td>NaN</td>\n",
              "      <td>NaN</td>\n",
              "      <td>NaN</td>\n",
              "      <td>NaN</td>\n",
              "      <td>NaN</td>\n",
              "      <td>NaN</td>\n",
              "      <td>NaN</td>\n",
              "      <td>NaN</td>\n",
              "      <td>NaN</td>\n",
              "      <td>NaN</td>\n",
              "      <td>NaN</td>\n",
              "      <td>40</td>\n",
              "      <td>802</td>\n",
              "      <td>Clouds</td>\n",
              "      <td>scattered clouds</td>\n",
              "      <td>03d</td>\n",
              "    </tr>\n",
              "  </tbody>\n",
              "</table>\n",
              "</div>"
            ],
            "text/plain": [
              "                dt  ... weather_icon\n",
              "264919  1578423600  ...          04n\n",
              "264920  1578427200  ...          04n\n",
              "264921  1578430800  ...          04n\n",
              "264922  1578434400  ...          03n\n",
              "264923  1578438000  ...          03d\n",
              "\n",
              "[5 rows x 32 columns]"
            ]
          },
          "metadata": {},
          "execution_count": 8
        }
      ]
    },
    {
      "cell_type": "code",
      "metadata": {
        "id": "yNyXUvxdMRbj"
      },
      "source": [
        "data = pd.read_csv('PrediksiSuhuDenpasar/openweatherdata-denpasar-1990-2020.csv', \n",
        "                   low_memory=False\n",
        "                   )\n",
        "\n",
        "data.drop([\"dt\", \"timezone\", 'city_name', 'lat', 'lon', 'sea_level','grnd_level', 'rain_1h', 'rain_3h','rain_6h','rain_12h','rain_24h','rain_today','snow_1h','snow_3h','snow_6h','snow_12h','snow_24h','snow_today'], inplace=True, axis=1)\n",
        "data.drop(['pressure','humidity','wind_speed','wind_deg','clouds_all', 'weather_id', 'weather_main', 'weather_description', 'weather_icon', 'temp_min', 'temp_max'], inplace=True, axis=1)"
      ],
      "execution_count": 43,
      "outputs": []
    },
    {
      "cell_type": "code",
      "metadata": {
        "id": "o9RER4o5LSg2",
        "colab": {
          "base_uri": "https://localhost:8080/",
          "height": 419
        },
        "outputId": "cd1c9f66-030f-49a9-cf25-74f44f09d66b"
      },
      "source": [
        "data"
      ],
      "execution_count": 44,
      "outputs": [
        {
          "output_type": "execute_result",
          "data": {
            "text/html": [
              "<div>\n",
              "<style scoped>\n",
              "    .dataframe tbody tr th:only-of-type {\n",
              "        vertical-align: middle;\n",
              "    }\n",
              "\n",
              "    .dataframe tbody tr th {\n",
              "        vertical-align: top;\n",
              "    }\n",
              "\n",
              "    .dataframe thead th {\n",
              "        text-align: right;\n",
              "    }\n",
              "</style>\n",
              "<table border=\"1\" class=\"dataframe\">\n",
              "  <thead>\n",
              "    <tr style=\"text-align: right;\">\n",
              "      <th></th>\n",
              "      <th>dt_iso</th>\n",
              "      <th>temp</th>\n",
              "    </tr>\n",
              "  </thead>\n",
              "  <tbody>\n",
              "    <tr>\n",
              "      <th>0</th>\n",
              "      <td>1990-01-01 00:00:00 +0000 UTC</td>\n",
              "      <td>25.82</td>\n",
              "    </tr>\n",
              "    <tr>\n",
              "      <th>1</th>\n",
              "      <td>1990-01-01 01:00:00 +0000 UTC</td>\n",
              "      <td>26.20</td>\n",
              "    </tr>\n",
              "    <tr>\n",
              "      <th>2</th>\n",
              "      <td>1990-01-01 02:00:00 +0000 UTC</td>\n",
              "      <td>26.45</td>\n",
              "    </tr>\n",
              "    <tr>\n",
              "      <th>3</th>\n",
              "      <td>1990-01-01 03:00:00 +0000 UTC</td>\n",
              "      <td>26.80</td>\n",
              "    </tr>\n",
              "    <tr>\n",
              "      <th>4</th>\n",
              "      <td>1990-01-01 04:00:00 +0000 UTC</td>\n",
              "      <td>27.04</td>\n",
              "    </tr>\n",
              "    <tr>\n",
              "      <th>...</th>\n",
              "      <td>...</td>\n",
              "      <td>...</td>\n",
              "    </tr>\n",
              "    <tr>\n",
              "      <th>264919</th>\n",
              "      <td>2020-01-07 19:00:00 +0000 UTC</td>\n",
              "      <td>27.00</td>\n",
              "    </tr>\n",
              "    <tr>\n",
              "      <th>264920</th>\n",
              "      <td>2020-01-07 20:00:00 +0000 UTC</td>\n",
              "      <td>27.00</td>\n",
              "    </tr>\n",
              "    <tr>\n",
              "      <th>264921</th>\n",
              "      <td>2020-01-07 21:00:00 +0000 UTC</td>\n",
              "      <td>28.00</td>\n",
              "    </tr>\n",
              "    <tr>\n",
              "      <th>264922</th>\n",
              "      <td>2020-01-07 22:00:00 +0000 UTC</td>\n",
              "      <td>28.00</td>\n",
              "    </tr>\n",
              "    <tr>\n",
              "      <th>264923</th>\n",
              "      <td>2020-01-07 23:00:00 +0000 UTC</td>\n",
              "      <td>28.00</td>\n",
              "    </tr>\n",
              "  </tbody>\n",
              "</table>\n",
              "<p>264924 rows × 2 columns</p>\n",
              "</div>"
            ],
            "text/plain": [
              "                               dt_iso   temp\n",
              "0       1990-01-01 00:00:00 +0000 UTC  25.82\n",
              "1       1990-01-01 01:00:00 +0000 UTC  26.20\n",
              "2       1990-01-01 02:00:00 +0000 UTC  26.45\n",
              "3       1990-01-01 03:00:00 +0000 UTC  26.80\n",
              "4       1990-01-01 04:00:00 +0000 UTC  27.04\n",
              "...                               ...    ...\n",
              "264919  2020-01-07 19:00:00 +0000 UTC  27.00\n",
              "264920  2020-01-07 20:00:00 +0000 UTC  27.00\n",
              "264921  2020-01-07 21:00:00 +0000 UTC  28.00\n",
              "264922  2020-01-07 22:00:00 +0000 UTC  28.00\n",
              "264923  2020-01-07 23:00:00 +0000 UTC  28.00\n",
              "\n",
              "[264924 rows x 2 columns]"
            ]
          },
          "metadata": {},
          "execution_count": 44
        }
      ]
    },
    {
      "cell_type": "code",
      "metadata": {
        "id": "7Wk8tLNfMFVf",
        "colab": {
          "base_uri": "https://localhost:8080/"
        },
        "outputId": "5d58bcf3-448a-4467-b348-32cbcaa5b23b"
      },
      "source": [
        "data.isnull().sum()\n"
      ],
      "execution_count": 45,
      "outputs": [
        {
          "output_type": "execute_result",
          "data": {
            "text/plain": [
              "dt_iso    0\n",
              "temp      0\n",
              "dtype: int64"
            ]
          },
          "metadata": {},
          "execution_count": 45
        }
      ]
    },
    {
      "cell_type": "code",
      "metadata": {
        "id": "EzOiR7fqT2ln"
      },
      "source": [
        "data.set_index('dt_iso', inplace=True)"
      ],
      "execution_count": 46,
      "outputs": []
    },
    {
      "cell_type": "code",
      "metadata": {
        "id": "ucNHe87HMown",
        "colab": {
          "base_uri": "https://localhost:8080/",
          "height": 300
        },
        "outputId": "0b72876e-aafc-4128-921b-290e77798376"
      },
      "source": [
        "plt.xlabel(\"Date\")\n",
        "plt.ylabel(\"Temperature\")\n",
        "plt.plot(data.temp)\n",
        "plt.title('Temperature average',\n",
        "          fontsize=20);"
      ],
      "execution_count": 13,
      "outputs": [
        {
          "output_type": "display_data",
          "data": {
            "image/png": "[encoded data removed]",
            "text/plain": [
              "<Figure size 432x288 with 1 Axes>"
            ]
          },
          "metadata": {
            "needs_background": "light"
          }
        }
      ]
    },
    {
      "cell_type": "code",
      "metadata": {
        "id": "WVwtvXUfTjS5",
        "colab": {
          "base_uri": "https://localhost:8080/"
        },
        "outputId": "f8e41f31-d26d-4cb0-afd1-990c97c45f45"
      },
      "source": [
        "data['temp']"
      ],
      "execution_count": 47,
      "outputs": [
        {
          "output_type": "execute_result",
          "data": {
            "text/plain": [
              "dt_iso\n",
              "1990-01-01 00:00:00 +0000 UTC    25.82\n",
              "1990-01-01 01:00:00 +0000 UTC    26.20\n",
              "1990-01-01 02:00:00 +0000 UTC    26.45\n",
              "1990-01-01 03:00:00 +0000 UTC    26.80\n",
              "1990-01-01 04:00:00 +0000 UTC    27.04\n",
              "                                 ...  \n",
              "2020-01-07 19:00:00 +0000 UTC    27.00\n",
              "2020-01-07 20:00:00 +0000 UTC    27.00\n",
              "2020-01-07 21:00:00 +0000 UTC    28.00\n",
              "2020-01-07 22:00:00 +0000 UTC    28.00\n",
              "2020-01-07 23:00:00 +0000 UTC    28.00\n",
              "Name: temp, Length: 264924, dtype: float64"
            ]
          },
          "metadata": {},
          "execution_count": 47
        }
      ]
    },
    {
      "cell_type": "code",
      "metadata": {
        "colab": {
          "base_uri": "https://localhost:8080/",
          "height": 450
        },
        "id": "J2UhIry_u4ob",
        "outputId": "da16ba4f-5355-403a-a0ea-85b0a428f6b6"
      },
      "source": [
        "data"
      ],
      "execution_count": 48,
      "outputs": [
        {
          "output_type": "execute_result",
          "data": {
            "text/html": [
              "<div>\n",
              "<style scoped>\n",
              "    .dataframe tbody tr th:only-of-type {\n",
              "        vertical-align: middle;\n",
              "    }\n",
              "\n",
              "    .dataframe tbody tr th {\n",
              "        vertical-align: top;\n",
              "    }\n",
              "\n",
              "    .dataframe thead th {\n",
              "        text-align: right;\n",
              "    }\n",
              "</style>\n",
              "<table border=\"1\" class=\"dataframe\">\n",
              "  <thead>\n",
              "    <tr style=\"text-align: right;\">\n",
              "      <th></th>\n",
              "      <th>temp</th>\n",
              "    </tr>\n",
              "    <tr>\n",
              "      <th>dt_iso</th>\n",
              "      <th></th>\n",
              "    </tr>\n",
              "  </thead>\n",
              "  <tbody>\n",
              "    <tr>\n",
              "      <th>1990-01-01 00:00:00 +0000 UTC</th>\n",
              "      <td>25.82</td>\n",
              "    </tr>\n",
              "    <tr>\n",
              "      <th>1990-01-01 01:00:00 +0000 UTC</th>\n",
              "      <td>26.20</td>\n",
              "    </tr>\n",
              "    <tr>\n",
              "      <th>1990-01-01 02:00:00 +0000 UTC</th>\n",
              "      <td>26.45</td>\n",
              "    </tr>\n",
              "    <tr>\n",
              "      <th>1990-01-01 03:00:00 +0000 UTC</th>\n",
              "      <td>26.80</td>\n",
              "    </tr>\n",
              "    <tr>\n",
              "      <th>1990-01-01 04:00:00 +0000 UTC</th>\n",
              "      <td>27.04</td>\n",
              "    </tr>\n",
              "    <tr>\n",
              "      <th>...</th>\n",
              "      <td>...</td>\n",
              "    </tr>\n",
              "    <tr>\n",
              "      <th>2020-01-07 19:00:00 +0000 UTC</th>\n",
              "      <td>27.00</td>\n",
              "    </tr>\n",
              "    <tr>\n",
              "      <th>2020-01-07 20:00:00 +0000 UTC</th>\n",
              "      <td>27.00</td>\n",
              "    </tr>\n",
              "    <tr>\n",
              "      <th>2020-01-07 21:00:00 +0000 UTC</th>\n",
              "      <td>28.00</td>\n",
              "    </tr>\n",
              "    <tr>\n",
              "      <th>2020-01-07 22:00:00 +0000 UTC</th>\n",
              "      <td>28.00</td>\n",
              "    </tr>\n",
              "    <tr>\n",
              "      <th>2020-01-07 23:00:00 +0000 UTC</th>\n",
              "      <td>28.00</td>\n",
              "    </tr>\n",
              "  </tbody>\n",
              "</table>\n",
              "<p>264924 rows × 1 columns</p>\n",
              "</div>"
            ],
            "text/plain": [
              "                                temp\n",
              "dt_iso                              \n",
              "1990-01-01 00:00:00 +0000 UTC  25.82\n",
              "1990-01-01 01:00:00 +0000 UTC  26.20\n",
              "1990-01-01 02:00:00 +0000 UTC  26.45\n",
              "1990-01-01 03:00:00 +0000 UTC  26.80\n",
              "1990-01-01 04:00:00 +0000 UTC  27.04\n",
              "...                              ...\n",
              "2020-01-07 19:00:00 +0000 UTC  27.00\n",
              "2020-01-07 20:00:00 +0000 UTC  27.00\n",
              "2020-01-07 21:00:00 +0000 UTC  28.00\n",
              "2020-01-07 22:00:00 +0000 UTC  28.00\n",
              "2020-01-07 23:00:00 +0000 UTC  28.00\n",
              "\n",
              "[264924 rows x 1 columns]"
            ]
          },
          "metadata": {},
          "execution_count": 48
        }
      ]
    },
    {
      "cell_type": "code",
      "metadata": {
        "id": "Tb_VmmkhXfmT",
        "colab": {
          "base_uri": "https://localhost:8080/"
        },
        "outputId": "7eee6a4c-89dd-4179-e76e-22336ebfe012"
      },
      "source": [
        "from sklearn.preprocessing import MinMaxScaler\n",
        "scaler = MinMaxScaler(feature_range=(0,1))\n",
        "data=scaler.fit_transform(data)\n",
        "data"
      ],
      "execution_count": 49,
      "outputs": [
        {
          "output_type": "execute_result",
          "data": {
            "text/plain": [
              "array([[0.63388889],\n",
              "       [0.64444444],\n",
              "       [0.65138889],\n",
              "       ...,\n",
              "       [0.69444444],\n",
              "       [0.69444444],\n",
              "       [0.69444444]])"
            ]
          },
          "metadata": {},
          "execution_count": 49
        }
      ]
    },
    {
      "cell_type": "code",
      "metadata": {
        "id": "ku1efr0_U199"
      },
      "source": [
        "train = int(len(data)*0.8)\n",
        "valid = len(data)-train"
      ],
      "execution_count": 50,
      "outputs": []
    },
    {
      "cell_type": "code",
      "metadata": {
        "id": "05ENwoS1U2F6"
      },
      "source": [
        "train_data, valid_data = data[0:train,:], data[train:len(data),:1]"
      ],
      "execution_count": 51,
      "outputs": []
    },
    {
      "cell_type": "code",
      "metadata": {
        "id": "IlrOa4yrVTXt"
      },
      "source": [
        "def create_dataset(dataset, time_step=1):\n",
        "  dataX, dataY = [],[]\n",
        "  for i in range(len(dataset)-time_step-1):\n",
        "    _data = dataset[i:(i+time_step), 0]\n",
        "    dataX.append(_data)\n",
        "    dataY.append(dataset[i+time_step,0])\n",
        "  return np.array(dataX), np.array(dataY)"
      ],
      "execution_count": 52,
      "outputs": []
    },
    {
      "cell_type": "code",
      "metadata": {
        "id": "t8LREE2QV-g1"
      },
      "source": [
        "time_step = 24\n",
        "\n",
        "X_train, Y_train = create_dataset(train_data,time_step)\n",
        "X_valid, Y_valid = create_dataset(valid_data,time_step)"
      ],
      "execution_count": 71,
      "outputs": []
    },
    {
      "cell_type": "code",
      "metadata": {
        "colab": {
          "base_uri": "https://localhost:8080/"
        },
        "id": "cWD73whwvogO",
        "outputId": "45040d03-519a-48e9-a475-dca590e42f7f"
      },
      "source": [
        "X_train.shape, Y_train.shape"
      ],
      "execution_count": 72,
      "outputs": [
        {
          "output_type": "execute_result",
          "data": {
            "text/plain": [
              "((211914, 24), (211914,))"
            ]
          },
          "metadata": {},
          "execution_count": 72
        }
      ]
    },
    {
      "cell_type": "code",
      "metadata": {
        "colab": {
          "base_uri": "https://localhost:8080/"
        },
        "id": "yxd5dcQSv4wT",
        "outputId": "f2569e1a-8068-4867-84a3-0fb38bba0f2d"
      },
      "source": [
        "X_train = X_train.reshape(X_train.shape[0],time_step,1)\n",
        "X_valid = X_valid.reshape(X_valid.shape[0],time_step,1)\n",
        "\n",
        "X_train"
      ],
      "execution_count": 73,
      "outputs": [
        {
          "output_type": "execute_result",
          "data": {
            "text/plain": [
              "array([[[0.63388889],\n",
              "        [0.64444444],\n",
              "        [0.65138889],\n",
              "        ...,\n",
              "        [0.61388889],\n",
              "        [0.61444444],\n",
              "        [0.61194444]],\n",
              "\n",
              "       [[0.64444444],\n",
              "        [0.65138889],\n",
              "        [0.66111111],\n",
              "        ...,\n",
              "        [0.61444444],\n",
              "        [0.61194444],\n",
              "        [0.61527778]],\n",
              "\n",
              "       [[0.65138889],\n",
              "        [0.66111111],\n",
              "        [0.66777778],\n",
              "        ...,\n",
              "        [0.61194444],\n",
              "        [0.61527778],\n",
              "        [0.61666667]],\n",
              "\n",
              "       ...,\n",
              "\n",
              "       [[0.60972222],\n",
              "        [0.65361111],\n",
              "        [0.69555556],\n",
              "        ...,\n",
              "        [0.64305556],\n",
              "        [0.63777778],\n",
              "        [0.65472222]],\n",
              "\n",
              "       [[0.65361111],\n",
              "        [0.69555556],\n",
              "        [0.71472222],\n",
              "        ...,\n",
              "        [0.63777778],\n",
              "        [0.65472222],\n",
              "        [0.66138889]],\n",
              "\n",
              "       [[0.69555556],\n",
              "        [0.71472222],\n",
              "        [0.73666667],\n",
              "        ...,\n",
              "        [0.65472222],\n",
              "        [0.66138889],\n",
              "        [0.67777778]]])"
            ]
          },
          "metadata": {},
          "execution_count": 73
        }
      ]
    },
    {
      "cell_type": "code",
      "metadata": {
        "id": "HWFFN4u7X2D4"
      },
      "source": [
        "class myCallback(tf.keras.callbacks.Callback):\n",
        "\n",
        "  def on_epoch_end(self, epoch, logs={}):\n",
        "\n",
        "    if(logs.get('mae') < 0.01 ):  \n",
        "\n",
        "\n",
        "      print(\"\\nMAE < 10%\")\n",
        "\n",
        "      self.model.stop_training = True\n",
        "\n",
        "callbacks90 = myCallback()"
      ],
      "execution_count": 78,
      "outputs": []
    },
    {
      "cell_type": "code",
      "metadata": {
        "id": "Wb8OewtSjBoD"
      },
      "source": [
        "model = tf.keras.models.Sequential([\n",
        "  tf.keras.layers.LSTM(60, return_sequences=True),\n",
        "  tf.keras.layers.LSTM(60),\n",
        "  tf.keras.layers.Dense(30, activation=\"relu\"),\n",
        "  tf.keras.layers.Dense(10, activation=\"relu\"),\n",
        "  tf.keras.layers.Dense(1),\n",
        "])\n",
        "\n"
      ],
      "execution_count": 79,
      "outputs": []
    },
    {
      "cell_type": "code",
      "metadata": {
        "id": "vEuhDzCuWys8"
      },
      "source": [
        ""
      ],
      "execution_count": 79,
      "outputs": []
    },
    {
      "cell_type": "code",
      "metadata": {
        "id": "stpIHXOtjCfL",
        "colab": {
          "base_uri": "https://localhost:8080/"
        },
        "outputId": "c0227a2b-8393-4c02-ca93-2d0eb27cbb0e"
      },
      "source": [
        "optimizer = tf.keras.optimizers.Adam(lr=1e-3)\n",
        "model.compile(loss='mae',\n",
        "              optimizer=optimizer,\n",
        "              metrics=[\"mae\"])\n",
        "history = model.fit(X_train, Y_train, \n",
        "                    validation_data=(X_valid, Y_valid),\n",
        "                    batch_size = 128,\n",
        "                    epochs=100,\n",
        "                     callbacks=[\n",
        "                        tf.keras.callbacks.EarlyStopping(\n",
        "                        monitor='val_loss',\n",
        "                        patience=5,\n",
        "                        restore_best_weights=True\n",
        "                        ), callbacks90]\n",
        "                        )"
      ],
      "execution_count": 82,
      "outputs": [
        {
          "output_type": "stream",
          "text": [
            "/usr/local/lib/python3.7/dist-packages/keras/optimizer_v2/optimizer_v2.py:356: UserWarning: The `lr` argument is deprecated, use `learning_rate` instead.\n",
            "  \"The `lr` argument is deprecated, use `learning_rate` instead.\")\n"
          ],
          "name": "stderr"
        },
        {
          "output_type": "stream",
          "text": [
            "Epoch 1/100\n",
            "1656/1656 [==============================] - 13s 6ms/step - loss: 0.0177 - mae: 0.0177 - val_loss: 0.0126 - val_mae: 0.0126\n",
            "Epoch 2/100\n",
            "1656/1656 [==============================] - 10s 6ms/step - loss: 0.0175 - mae: 0.0175 - val_loss: 0.0117 - val_mae: 0.0117\n",
            "Epoch 3/100\n",
            "1656/1656 [==============================] - 10s 6ms/step - loss: 0.0173 - mae: 0.0173 - val_loss: 0.0108 - val_mae: 0.0108\n",
            "Epoch 4/100\n",
            "1656/1656 [==============================] - 10s 6ms/step - loss: 0.0173 - mae: 0.0173 - val_loss: 0.0111 - val_mae: 0.0111\n",
            "Epoch 5/100\n",
            "1656/1656 [==============================] - 10s 6ms/step - loss: 0.0172 - mae: 0.0172 - val_loss: 0.0107 - val_mae: 0.0107\n",
            "Epoch 6/100\n",
            "1656/1656 [==============================] - 10s 6ms/step - loss: 0.0171 - mae: 0.0171 - val_loss: 0.0117 - val_mae: 0.0117\n",
            "Epoch 7/100\n",
            "1656/1656 [==============================] - 10s 6ms/step - loss: 0.0171 - mae: 0.0171 - val_loss: 0.0107 - val_mae: 0.0107\n",
            "Epoch 8/100\n",
            "1656/1656 [==============================] - 10s 6ms/step - loss: 0.0170 - mae: 0.0170 - val_loss: 0.0108 - val_mae: 0.0108\n",
            "Epoch 9/100\n",
            "1656/1656 [==============================] - 10s 6ms/step - loss: 0.0170 - mae: 0.0170 - val_loss: 0.0107 - val_mae: 0.0107\n",
            "Epoch 10/100\n",
            "1656/1656 [==============================] - 10s 6ms/step - loss: 0.0169 - mae: 0.0169 - val_loss: 0.0110 - val_mae: 0.0110\n",
            "Epoch 11/100\n",
            "1656/1656 [==============================] - 10s 6ms/step - loss: 0.0169 - mae: 0.0169 - val_loss: 0.0106 - val_mae: 0.0106\n",
            "Epoch 12/100\n",
            "1656/1656 [==============================] - 10s 6ms/step - loss: 0.0169 - mae: 0.0169 - val_loss: 0.0107 - val_mae: 0.0107\n",
            "Epoch 13/100\n",
            "1656/1656 [==============================] - 10s 6ms/step - loss: 0.0168 - mae: 0.0168 - val_loss: 0.0109 - val_mae: 0.0109\n",
            "Epoch 14/100\n",
            "1656/1656 [==============================] - 10s 6ms/step - loss: 0.0167 - mae: 0.0167 - val_loss: 0.0114 - val_mae: 0.0114\n",
            "Epoch 15/100\n",
            "1656/1656 [==============================] - 10s 6ms/step - loss: 0.0166 - mae: 0.0166 - val_loss: 0.0108 - val_mae: 0.0108\n",
            "Epoch 16/100\n",
            "1656/1656 [==============================] - 10s 6ms/step - loss: 0.0164 - mae: 0.0164 - val_loss: 0.0105 - val_mae: 0.0105\n",
            "Epoch 17/100\n",
            "1656/1656 [==============================] - 10s 6ms/step - loss: 0.0163 - mae: 0.0163 - val_loss: 0.0115 - val_mae: 0.0115\n",
            "Epoch 18/100\n",
            "1656/1656 [==============================] - 10s 6ms/step - loss: 0.0162 - mae: 0.0162 - val_loss: 0.0105 - val_mae: 0.0105\n",
            "Epoch 19/100\n",
            "1656/1656 [==============================] - 10s 6ms/step - loss: 0.0160 - mae: 0.0160 - val_loss: 0.0109 - val_mae: 0.0109\n",
            "Epoch 20/100\n",
            "1656/1656 [==============================] - 10s 6ms/step - loss: 0.0159 - mae: 0.0159 - val_loss: 0.0101 - val_mae: 0.0101\n",
            "Epoch 21/100\n",
            "1656/1656 [==============================] - 10s 6ms/step - loss: 0.0158 - mae: 0.0158 - val_loss: 0.0102 - val_mae: 0.0102\n",
            "Epoch 22/100\n",
            "1656/1656 [==============================] - 10s 6ms/step - loss: 0.0157 - mae: 0.0157 - val_loss: 0.0104 - val_mae: 0.0104\n",
            "Epoch 23/100\n",
            "1656/1656 [==============================] - 10s 6ms/step - loss: 0.0157 - mae: 0.0157 - val_loss: 0.0100 - val_mae: 0.0100\n",
            "Epoch 24/100\n",
            "1656/1656 [==============================] - 10s 6ms/step - loss: 0.0156 - mae: 0.0156 - val_loss: 0.0104 - val_mae: 0.0104\n",
            "Epoch 25/100\n",
            "1656/1656 [==============================] - 10s 6ms/step - loss: 0.0155 - mae: 0.0155 - val_loss: 0.0102 - val_mae: 0.0102\n",
            "Epoch 26/100\n",
            "1656/1656 [==============================] - 10s 6ms/step - loss: 0.0154 - mae: 0.0154 - val_loss: 0.0103 - val_mae: 0.0103\n",
            "Epoch 27/100\n",
            "1656/1656 [==============================] - 10s 6ms/step - loss: 0.0154 - mae: 0.0154 - val_loss: 0.0097 - val_mae: 0.0097\n",
            "Epoch 28/100\n",
            "1656/1656 [==============================] - 10s 6ms/step - loss: 0.0153 - mae: 0.0153 - val_loss: 0.0104 - val_mae: 0.0104\n",
            "Epoch 29/100\n",
            "1656/1656 [==============================] - 10s 6ms/step - loss: 0.0152 - mae: 0.0152 - val_loss: 0.0099 - val_mae: 0.0099\n",
            "Epoch 30/100\n",
            "1656/1656 [==============================] - 10s 6ms/step - loss: 0.0152 - mae: 0.0152 - val_loss: 0.0096 - val_mae: 0.0096\n",
            "Epoch 31/100\n",
            "1656/1656 [==============================] - 10s 6ms/step - loss: 0.0151 - mae: 0.0151 - val_loss: 0.0096 - val_mae: 0.0096\n",
            "Epoch 32/100\n",
            "1656/1656 [==============================] - 10s 6ms/step - loss: 0.0150 - mae: 0.0150 - val_loss: 0.0098 - val_mae: 0.0098\n",
            "Epoch 33/100\n",
            "1656/1656 [==============================] - 10s 6ms/step - loss: 0.0150 - mae: 0.0150 - val_loss: 0.0095 - val_mae: 0.0095\n",
            "Epoch 34/100\n",
            "1656/1656 [==============================] - 10s 6ms/step - loss: 0.0150 - mae: 0.0150 - val_loss: 0.0097 - val_mae: 0.0097\n",
            "Epoch 35/100\n",
            "1656/1656 [==============================] - 10s 6ms/step - loss: 0.0149 - mae: 0.0149 - val_loss: 0.0097 - val_mae: 0.0097\n",
            "Epoch 36/100\n",
            "1656/1656 [==============================] - 10s 6ms/step - loss: 0.0149 - mae: 0.0149 - val_loss: 0.0097 - val_mae: 0.0097\n",
            "Epoch 37/100\n",
            "1656/1656 [==============================] - 10s 6ms/step - loss: 0.0148 - mae: 0.0148 - val_loss: 0.0094 - val_mae: 0.0094\n",
            "Epoch 38/100\n",
            "1656/1656 [==============================] - 10s 6ms/step - loss: 0.0149 - mae: 0.0149 - val_loss: 0.0093 - val_mae: 0.0093\n",
            "Epoch 39/100\n",
            "1656/1656 [==============================] - 10s 6ms/step - loss: 0.0148 - mae: 0.0148 - val_loss: 0.0096 - val_mae: 0.0096\n",
            "Epoch 40/100\n",
            "1656/1656 [==============================] - 10s 6ms/step - loss: 0.0148 - mae: 0.0148 - val_loss: 0.0095 - val_mae: 0.0095\n",
            "Epoch 41/100\n",
            "1656/1656 [==============================] - 10s 6ms/step - loss: 0.0148 - mae: 0.0148 - val_loss: 0.0095 - val_mae: 0.0095\n",
            "Epoch 42/100\n",
            "1656/1656 [==============================] - 10s 6ms/step - loss: 0.0146 - mae: 0.0146 - val_loss: 0.0093 - val_mae: 0.0093\n",
            "Epoch 43/100\n",
            "1656/1656 [==============================] - 10s 6ms/step - loss: 0.0147 - mae: 0.0147 - val_loss: 0.0092 - val_mae: 0.0092\n",
            "Epoch 44/100\n",
            "1656/1656 [==============================] - 10s 6ms/step - loss: 0.0146 - mae: 0.0146 - val_loss: 0.0092 - val_mae: 0.0092\n",
            "Epoch 45/100\n",
            "1656/1656 [==============================] - 10s 6ms/step - loss: 0.0146 - mae: 0.0146 - val_loss: 0.0095 - val_mae: 0.0095\n",
            "Epoch 46/100\n",
            "1656/1656 [==============================] - 10s 6ms/step - loss: 0.0146 - mae: 0.0146 - val_loss: 0.0093 - val_mae: 0.0093\n",
            "Epoch 47/100\n",
            "1656/1656 [==============================] - 10s 6ms/step - loss: 0.0145 - mae: 0.0145 - val_loss: 0.0092 - val_mae: 0.0092\n",
            "Epoch 48/100\n",
            "1656/1656 [==============================] - 10s 6ms/step - loss: 0.0145 - mae: 0.0145 - val_loss: 0.0095 - val_mae: 0.0095\n",
            "Epoch 49/100\n",
            "1656/1656 [==============================] - 10s 6ms/step - loss: 0.0145 - mae: 0.0145 - val_loss: 0.0093 - val_mae: 0.0093\n",
            "Epoch 50/100\n",
            "1656/1656 [==============================] - 10s 6ms/step - loss: 0.0145 - mae: 0.0145 - val_loss: 0.0093 - val_mae: 0.0093\n",
            "Epoch 51/100\n",
            "1656/1656 [==============================] - 10s 6ms/step - loss: 0.0144 - mae: 0.0144 - val_loss: 0.0095 - val_mae: 0.0095\n",
            "Epoch 52/100\n",
            "1656/1656 [==============================] - 10s 6ms/step - loss: 0.0144 - mae: 0.0144 - val_loss: 0.0105 - val_mae: 0.0105\n"
          ],
          "name": "stdout"
        }
      ]
    },
    {
      "cell_type": "code",
      "metadata": {
        "id": "Kxvu7IJGkaaD"
      },
      "source": [
        "train_predict=model.predict(X_train)\n",
        "valid_predict=model.predict(X_valid)"
      ],
      "execution_count": 83,
      "outputs": []
    },
    {
      "cell_type": "code",
      "metadata": {
        "id": "8qD1Tc0A6ur1"
      },
      "source": [
        "train_predict=scaler.inverse_transform(train_predict)\n",
        "valid_predict=scaler.inverse_transform(valid_predict)"
      ],
      "execution_count": 85,
      "outputs": []
    },
    {
      "cell_type": "code",
      "metadata": {
        "colab": {
          "base_uri": "https://localhost:8080/"
        },
        "id": "ETfZmKrq_FgM",
        "outputId": "44c23e1d-1ec3-4725-b327-8e54ef69a9b3"
      },
      "source": [
        "train_predict"
      ],
      "execution_count": 86,
      "outputs": [
        {
          "output_type": "execute_result",
          "data": {
            "text/plain": [
              "array([[25.19557 ],\n",
              "       [25.531061],\n",
              "       [25.772314],\n",
              "       ...,\n",
              "       [26.636024],\n",
              "       [27.203829],\n",
              "       [28.073635]], dtype=float32)"
            ]
          },
          "metadata": {},
          "execution_count": 86
        }
      ]
    },
    {
      "cell_type": "code",
      "metadata": {
        "colab": {
          "base_uri": "https://localhost:8080/"
        },
        "id": "m9BLG0hiArro",
        "outputId": "9b4ba20a-cde4-4899-9080-1dc5e8809ce2"
      },
      "source": [
        "valid_predict"
      ],
      "execution_count": 91,
      "outputs": [
        {
          "output_type": "execute_result",
          "data": {
            "text/plain": [
              "array([[29.803154],\n",
              "       [29.532372],\n",
              "       [29.81817 ],\n",
              "       ...,\n",
              "       [27.053062],\n",
              "       [26.823555],\n",
              "       [27.882275]], dtype=float32)"
            ]
          },
          "metadata": {},
          "execution_count": 91
        }
      ]
    },
    {
      "cell_type": "code",
      "metadata": {
        "colab": {
          "base_uri": "https://localhost:8080/",
          "height": 300
        },
        "id": "H0uk8O7O_RVM",
        "outputId": "7bab671f-b12a-41cd-bb84-aa139e3410a5"
      },
      "source": [
        "trainPredictPlot = np.empty_like(data)\n",
        "trainPredictPlot[:,:] = np.nan\n",
        "trainPredictPlot[time_step:len(train_predict)+time_step,:] = train_predict\n",
        "\n",
        "testPredictPlot = np.empty_like(data)\n",
        "testPredictPlot[:,:] = np.nan\n",
        "testPredictPlot[len(train_predict)+time_step*2+1:len(data)-1,:] = valid_predict\n",
        "\n",
        "plt.xlabel(\"Date\")\n",
        "plt.ylabel(\"Temperature\")\n",
        "plt.plot(scaler.inverse_transform(data))\n",
        "plt.plot(testPredictPlot)\n",
        "plt.title('Temperature average',\n",
        "          fontsize=20);"
      ],
      "execution_count": 93,
      "outputs": [
        {
          "output_type": "display_data",
          "data": {
            "image/png": "[encoded data removed]",
            "text/plain": [
              "<Figure size 432x288 with 1 Axes>"
            ]
          },
          "metadata": {
            "needs_background": "light"
          }
        }
      ]
    },
    {
      "cell_type": "code",
      "metadata": {
        "id": "qn6A_dFOAeek"
      },
      "source": [
        ""
      ],
      "execution_count": null,
      "outputs": []
    }
  ]
}